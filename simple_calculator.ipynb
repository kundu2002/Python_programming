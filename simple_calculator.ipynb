{
 "cells": [
  {
   "cell_type": "code",
   "execution_count": 1,
   "metadata": {},
   "outputs": [],
   "source": [
    "#Give the value of x and y as input\n",
    "x=float(input(\"Enter first number: \"))\n",
    "y=float(input(\"Enter second number: \"))"
   ]
  },
  {
   "cell_type": "code",
   "execution_count": 2,
   "metadata": {},
   "outputs": [],
   "source": [
    "#Enter the operation\n",
    "opt=input(\"Enter your operation (+,-,*,/):\")"
   ]
  },
  {
   "cell_type": "code",
   "execution_count": 3,
   "metadata": {},
   "outputs": [
    {
     "name": "stdout",
     "output_type": "stream",
     "text": [
      "The division value of the given number is 0.8571428571428571\n"
     ]
    }
   ],
   "source": [
    "#Calculate the output based on the operation\n",
    "if opt=='+':\n",
    "    print(\"The summation value of the given number is\",x+y)\n",
    "elif opt=='-':\n",
    "    print(\"The subtraction value of the given number is\",x-y)\n",
    "elif opt=='*':\n",
    "    print(\"The multiplication value of the given number is\",x*y)\n",
    "elif opt=='/':\n",
    "    if y==0:\n",
    "        output=\"Can't divisible by zero\"\n",
    "    else:\n",
    "        print(\"The division value of the given number is\",x/y)\n",
    "else:\n",
    "    print(\"Invalid operation\")"
   ]
  }
 ],
 "metadata": {
  "kernelspec": {
   "display_name": "Python 3",
   "language": "python",
   "name": "python3"
  },
  "language_info": {
   "codemirror_mode": {
    "name": "ipython",
    "version": 3
   },
   "file_extension": ".py",
   "mimetype": "text/x-python",
   "name": "python",
   "nbconvert_exporter": "python",
   "pygments_lexer": "ipython3",
   "version": "3.10.5"
  }
 },
 "nbformat": 4,
 "nbformat_minor": 2
}
